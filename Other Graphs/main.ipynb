{
 "cells": [
  {
   "cell_type": "code",
   "execution_count": 1,
   "metadata": {},
   "outputs": [],
   "source": [
    "from plotter import plot_bar, save_plot\n",
    "from config.settings import GRAPH_SAVE_FOLDER"
   ]
  },
  {
   "cell_type": "code",
   "execution_count": 2,
   "metadata": {},
   "outputs": [],
   "source": [
    "methods = ['Full Fine-Tune', 'NetLLM', 'L4S-LLM']\n",
    "trainable_params = [100, 0.31, 1.005]\n",
    "# Plot Trainable Parameters\n",
    "plot_bar(\n",
    "    data=trainable_params,\n",
    "    labels=methods,\n",
    "    ylabel='Trainable Parameters (%)',\n",
    "    title='Fraction of Trainable Parameters',\n",
    "    filename=\"Trainable_Parameters_Graph\",\n",
    "    folder=GRAPH_SAVE_FOLDER\n",
    ")\n"
   ]
  },
  {
   "cell_type": "markdown",
   "metadata": {},
   "source": [
    "VRAM USAGE\n",
    "gpt = 3569\n",
    "llama = 23919\n",
    "opt = 7005\n",
    "t5llm = 2321"
   ]
  },
  {
   "cell_type": "code",
   "execution_count": 3,
   "metadata": {},
   "outputs": [],
   "source": [
    "methods = ['FUll llama2-7B', 'NetLLM', 'llama2-7B','opt','gpt2','t5llm']\n",
    "gpu_memory = [65.88, 27.24, 23.919,7.005,3.569,2.321]\n",
    "# Plot GPU Memory Utilization\n",
    "plot_bar(\n",
    "    data=gpu_memory,\n",
    "    labels=methods,\n",
    "    ylabel='GPU Memory Utilization (GB)',\n",
    "    title='GPU Memory Utilization',\n",
    "    filename=\"GPU_Memory_Utilization_Graph\",\n",
    "    folder=GRAPH_SAVE_FOLDER,\n",
    "    figsize=(5,4)\n",
    ")"
   ]
  },
  {
   "cell_type": "code",
   "execution_count": 4,
   "metadata": {},
   "outputs": [],
   "source": [
    "# Data and paths\n",
    "models = ['Net-LLM', 'L4S-LLM']\n",
    "valid_answer_percentages = [98, 99.96]\n",
    "# Plot valid answer percentages\n",
    "plot_bar(\n",
    "    data=valid_answer_percentages,\n",
    "    labels=models,\n",
    "    ylabel='Generating Valid Answer (%)',\n",
    "    title='Valid Answer Percentage by Model',\n",
    "    filename=\"Valid_Answer_Percentage_Graph\",\n",
    "    folder=GRAPH_SAVE_FOLDER\n",
    "\n",
    ")"
   ]
  },
  {
   "cell_type": "code",
   "execution_count": 5,
   "metadata": {},
   "outputs": [],
   "source": [
    "# Data and paths\n",
    "models = ['Llama2-7B', 'Net-LLM' ]\n",
    "times = [0.2, 0.04]  # Example times in seconds\n",
    "\n",
    "\n",
    "# Plot average answer generation times\n",
    "plot_bar(\n",
    "    data=times,\n",
    "    labels=models,\n",
    "    ylabel='Average Answer Generation Time (s)',\n",
    "    title='Average Answer Generation Time by Model',\n",
    "    filename=\"Answer_Generation_Time_Graph\",\n",
    "    folder=GRAPH_SAVE_FOLDER\n",
    ")"
   ]
  },
  {
   "cell_type": "code",
   "execution_count": 6,
   "metadata": {},
   "outputs": [],
   "source": [
    "# Data and paths\n",
    "models = ['llama2-7B','opt','gpt2','t5llm']\n",
    "times = [14.418755293620958,0.29904726816548244, 0.1795850792858336, 0.3226693036821153]  # Example times in seconds\n",
    "\n",
    "\n",
    "# Plot Training Time\n",
    "plot_bar(\n",
    "    data=times,\n",
    "    labels=models,\n",
    "    ylabel='Training Time (h)',\n",
    "    title='Training Time by Model',\n",
    "    filename=\"Training_Time_Graph\",\n",
    "    folder=GRAPH_SAVE_FOLDER\n",
    ")"
   ]
  }
 ],
 "metadata": {
  "kernelspec": {
   "display_name": "vizenv",
   "language": "python",
   "name": "python3"
  },
  "language_info": {
   "codemirror_mode": {
    "name": "ipython",
    "version": 3
   },
   "file_extension": ".py",
   "mimetype": "text/x-python",
   "name": "python",
   "nbconvert_exporter": "python",
   "pygments_lexer": "ipython3",
   "version": "3.12.8"
  }
 },
 "nbformat": 4,
 "nbformat_minor": 2
}
