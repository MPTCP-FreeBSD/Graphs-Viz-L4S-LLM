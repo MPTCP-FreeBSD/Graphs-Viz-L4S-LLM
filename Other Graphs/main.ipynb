{
 "cells": [
  {
   "cell_type": "code",
   "execution_count": 1,
   "metadata": {},
   "outputs": [],
   "source": [
    "from plotter import plot_bar\n",
    "# Pre-defined variables (to be filled by the user)\n",
    "methods = ['Full Fine-Tune', 'NetLLM', 'L4S-LLM']\n",
    "trainable_params = [100, 0.31, 1.005]\n",
    "gpu_memory = [65.88, 27.24, 23.838]\n",
    "\n",
    "# Plot configurations\n",
    "PLOT_SAVE_FOLDER = \"Graph Output\"  # Folder to save plots\n",
    "\n",
    "# Plot Trainable Parameters\n",
    "plot_bar(\n",
    "    data=trainable_params,\n",
    "    labels=methods,\n",
    "    ylabel='Trainable Parameters (%)',\n",
    "    title='Fraction of Trainable Parameters',\n",
    "    filename=\"Trainable_Parameters_Graph\",\n",
    "    folder=PLOT_SAVE_FOLDER\n",
    ")\n",
    "\n",
    "# Plot GPU Memory Utilization\n",
    "plot_bar(\n",
    "    data=gpu_memory,\n",
    "    labels=methods,\n",
    "    ylabel='GPU Memory Utilization (GB)',\n",
    "    title='GPU Memory Utilization',\n",
    "    filename=\"GPU_Memory_Utilization_Graph\",\n",
    "    folder=PLOT_SAVE_FOLDER\n",
    ")"
   ]
  },
  {
   "cell_type": "code",
   "execution_count": 2,
   "metadata": {},
   "outputs": [],
   "source": [
    "# Data and paths\n",
    "models = ['Llama2-7B', 'Net-LLM']\n",
    "valid_answer_percentages = [98, 99.96]\n",
    "times = [0.2, 0.04]  # Example times in seconds\n",
    "\n",
    "# Plot valid answer percentages\n",
    "plot_bar(\n",
    "    data=valid_answer_percentages,\n",
    "    labels=models,\n",
    "    ylabel='Generating Valid Answer (%)',\n",
    "    title='Valid Answer Percentage by Model',\n",
    "    filename=\"Valid_Answer_Percentage_Graph\",\n",
    "    folder=PLOT_SAVE_FOLDER\n",
    ")\n",
    "\n",
    "# Plot average answer generation times\n",
    "plot_bar(\n",
    "    data=times,\n",
    "    labels=models,\n",
    "    ylabel='Average Answer Generation Time (s)',\n",
    "    title='Average Answer Generation Time by Model',\n",
    "    filename=\"Answer_Generation_Time_Graph\",\n",
    "    folder=PLOT_SAVE_FOLDER\n",
    ")"
   ]
  }
 ],
 "metadata": {
  "kernelspec": {
   "display_name": "vizenv",
   "language": "python",
   "name": "python3"
  },
  "language_info": {
   "codemirror_mode": {
    "name": "ipython",
    "version": 3
   },
   "file_extension": ".py",
   "mimetype": "text/x-python",
   "name": "python",
   "nbconvert_exporter": "python",
   "pygments_lexer": "ipython3",
   "version": "3.12.8"
  }
 },
 "nbformat": 4,
 "nbformat_minor": 2
}
